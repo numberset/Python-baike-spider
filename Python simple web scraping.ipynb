{
 "cells": [
  {
   "cell_type": "code",
   "execution_count": 3,
   "metadata": {
    "ExecuteTime": {
     "end_time": "2019-05-20T00:08:16.712834Z",
     "start_time": "2019-05-20T00:08:16.706877Z"
    },
    "collapsed": true
   },
   "outputs": [],
   "source": [
    "import urllib.request\n",
    "import http.cookiejar\n",
    "from bs4 import BeautifulSoup\n",
    "import re"
   ]
  },
  {
   "cell_type": "markdown",
   "metadata": {},
   "source": [
    "# 网页下载器实例"
   ]
  },
  {
   "cell_type": "markdown",
   "metadata": {},
   "source": [
    "Use Python 3 https://www.imooc.com/qadetail/295820"
   ]
  },
  {
   "cell_type": "code",
   "execution_count": 13,
   "metadata": {
    "ExecuteTime": {
     "end_time": "2019-05-13T00:40:25.353644Z",
     "start_time": "2019-05-13T00:40:25.349651Z"
    },
    "collapsed": true
   },
   "outputs": [],
   "source": [
    "url = \"http://www.baidu.com\""
   ]
  },
  {
   "cell_type": "markdown",
   "metadata": {},
   "source": [
    "## First method"
   ]
  },
  {
   "cell_type": "code",
   "execution_count": 25,
   "metadata": {
    "ExecuteTime": {
     "end_time": "2019-05-13T00:49:57.433125Z",
     "start_time": "2019-05-13T00:49:55.820052Z"
    },
    "collapsed": true
   },
   "outputs": [],
   "source": [
    "response1 = urllib.request.urlopen(url)"
   ]
  },
  {
   "cell_type": "code",
   "execution_count": 26,
   "metadata": {
    "ExecuteTime": {
     "end_time": "2019-05-13T00:49:58.473241Z",
     "start_time": "2019-05-13T00:49:58.466257Z"
    }
   },
   "outputs": [
    {
     "name": "stdout",
     "output_type": "stream",
     "text": [
      "200\n"
     ]
    }
   ],
   "source": [
    "print(response1.getcode())"
   ]
  },
  {
   "cell_type": "code",
   "execution_count": 27,
   "metadata": {
    "ExecuteTime": {
     "end_time": "2019-05-13T00:49:59.516881Z",
     "start_time": "2019-05-13T00:49:59.330090Z"
    }
   },
   "outputs": [
    {
     "name": "stdout",
     "output_type": "stream",
     "text": [
      "153659\n"
     ]
    }
   ],
   "source": [
    "print(len(response1.read()))"
   ]
  },
  {
   "cell_type": "markdown",
   "metadata": {},
   "source": [
    "## Second method"
   ]
  },
  {
   "cell_type": "code",
   "execution_count": 17,
   "metadata": {
    "ExecuteTime": {
     "end_time": "2019-05-13T00:43:26.998248Z",
     "start_time": "2019-05-13T00:43:25.459889Z"
    },
    "collapsed": true
   },
   "outputs": [],
   "source": [
    "request = urllib.request.Request(url)\n",
    "request.add_header('user-agent', 'Mozilla/0.5')\n",
    "response2 = urllib.request.urlopen(url)"
   ]
  },
  {
   "cell_type": "code",
   "execution_count": 18,
   "metadata": {
    "ExecuteTime": {
     "end_time": "2019-05-13T00:43:34.991073Z",
     "start_time": "2019-05-13T00:43:34.984090Z"
    }
   },
   "outputs": [
    {
     "name": "stdout",
     "output_type": "stream",
     "text": [
      "200\n"
     ]
    }
   ],
   "source": [
    "print(response2.getcode())"
   ]
  },
  {
   "cell_type": "code",
   "execution_count": 19,
   "metadata": {
    "ExecuteTime": {
     "end_time": "2019-05-13T00:43:42.660760Z",
     "start_time": "2019-05-13T00:43:42.480598Z"
    }
   },
   "outputs": [
    {
     "name": "stdout",
     "output_type": "stream",
     "text": [
      "153380\n"
     ]
    }
   ],
   "source": [
    "print(len(response2.read()))"
   ]
  },
  {
   "cell_type": "markdown",
   "metadata": {},
   "source": [
    "## Third method"
   ]
  },
  {
   "cell_type": "code",
   "execution_count": 20,
   "metadata": {
    "ExecuteTime": {
     "end_time": "2019-05-13T00:46:26.415307Z",
     "start_time": "2019-05-13T00:46:26.408307Z"
    },
    "collapsed": true
   },
   "outputs": [],
   "source": [
    "cj = http.cookiejar.CookieJar()\n",
    "opener = urllib.request.build_opener(urllib.request.HTTPCookieProcessor(cj))"
   ]
  },
  {
   "cell_type": "code",
   "execution_count": 21,
   "metadata": {
    "ExecuteTime": {
     "end_time": "2019-05-13T00:46:45.843116Z",
     "start_time": "2019-05-13T00:46:45.838129Z"
    },
    "collapsed": true
   },
   "outputs": [],
   "source": [
    "urllib.request.install_opener(opener)"
   ]
  },
  {
   "cell_type": "code",
   "execution_count": 22,
   "metadata": {
    "ExecuteTime": {
     "end_time": "2019-05-13T00:47:19.287428Z",
     "start_time": "2019-05-13T00:47:18.680201Z"
    },
    "collapsed": true
   },
   "outputs": [],
   "source": [
    "response3 = urllib.request.urlopen(url)"
   ]
  },
  {
   "cell_type": "code",
   "execution_count": 23,
   "metadata": {
    "ExecuteTime": {
     "end_time": "2019-05-13T00:47:26.977636Z",
     "start_time": "2019-05-13T00:47:26.969658Z"
    }
   },
   "outputs": [
    {
     "name": "stdout",
     "output_type": "stream",
     "text": [
      "200\n"
     ]
    }
   ],
   "source": [
    "print(response3.getcode())"
   ]
  },
  {
   "cell_type": "code",
   "execution_count": 24,
   "metadata": {
    "ExecuteTime": {
     "end_time": "2019-05-13T00:47:35.481024Z",
     "start_time": "2019-05-13T00:47:35.389267Z"
    }
   },
   "outputs": [
    {
     "name": "stdout",
     "output_type": "stream",
     "text": [
      "153392\n"
     ]
    }
   ],
   "source": [
    "print(len(response3.read()))"
   ]
  },
  {
   "cell_type": "code",
   "execution_count": 28,
   "metadata": {
    "ExecuteTime": {
     "end_time": "2019-05-13T00:50:13.945459Z",
     "start_time": "2019-05-13T00:50:13.939473Z"
    }
   },
   "outputs": [
    {
     "name": "stdout",
     "output_type": "stream",
     "text": [
      "<CookieJar[<Cookie BAIDUID=A13691FA76FA9C26C21ED680B3621F22:FG=1 for .baidu.com/>, <Cookie BIDUPSID=A13691FA76FA9C26C21ED680B3621F22 for .baidu.com/>, <Cookie H_PS_PSSID=1437_21081_28519_28771_28722_28963_28834_28584_28704 for .baidu.com/>, <Cookie PSTM=1557708439 for .baidu.com/>, <Cookie delPer=0 for .baidu.com/>, <Cookie BDSVRTM=0 for www.baidu.com/>, <Cookie BD_HOME=0 for www.baidu.com/>]>\n"
     ]
    }
   ],
   "source": [
    "print(cj)"
   ]
  },
  {
   "cell_type": "markdown",
   "metadata": {
    "collapsed": true
   },
   "source": [
    "# BeautifulSoup 实例"
   ]
  },
  {
   "cell_type": "markdown",
   "metadata": {},
   "source": [
    "Use Python 3 https://www.imooc.com/qadetail/295877"
   ]
  },
  {
   "cell_type": "code",
   "execution_count": 4,
   "metadata": {
    "ExecuteTime": {
     "end_time": "2019-05-20T00:09:11.178250Z",
     "start_time": "2019-05-20T00:09:11.172796Z"
    },
    "collapsed": true
   },
   "outputs": [],
   "source": [
    "html_doc = \"\"\"\n",
    "<html><head><title>The Dormouse's story</title></head>\n",
    "<body>\n",
    "<p class=\"title\"><b>The Dormouse's story</b></p>\n",
    "\n",
    "<p class=\"story\">Once upon a time there were three little sisters; and their names were\n",
    "<a href=\"http://example.com/elsie\" class=\"sister\" id=\"link1\">Elsie</a>,\n",
    "<a href=\"http://example.com/lacie\" class=\"sister\" id=\"link2\">Lacie</a> and\n",
    "<a href=\"http://example.com/tillie\" class=\"sister\" id=\"link3\">Tillie</a>;\n",
    "and they lived at the bottom of a well.</p>\n",
    "\n",
    "<p class=\"story\">...</p>\n",
    "\"\"\""
   ]
  },
  {
   "cell_type": "code",
   "execution_count": 5,
   "metadata": {
    "ExecuteTime": {
     "end_time": "2019-05-20T00:10:26.366429Z",
     "start_time": "2019-05-20T00:10:26.361469Z"
    },
    "collapsed": true
   },
   "outputs": [],
   "source": [
    "soup = BeautifulSoup(html_doc, 'html.parser')"
   ]
  },
  {
   "cell_type": "code",
   "execution_count": 6,
   "metadata": {
    "ExecuteTime": {
     "end_time": "2019-05-20T00:10:56.039698Z",
     "start_time": "2019-05-20T00:10:56.035230Z"
    },
    "collapsed": true
   },
   "outputs": [],
   "source": [
    "# get all links\n",
    "links = soup.find_all('a')"
   ]
  },
  {
   "cell_type": "code",
   "execution_count": 7,
   "metadata": {
    "ExecuteTime": {
     "end_time": "2019-05-20T00:14:44.450427Z",
     "start_time": "2019-05-20T00:14:44.440543Z"
    }
   },
   "outputs": [
    {
     "name": "stdout",
     "output_type": "stream",
     "text": [
      "a http://example.com/elsie Elsie\n",
      "a http://example.com/lacie Lacie\n",
      "a http://example.com/tillie Tillie\n"
     ]
    }
   ],
   "source": [
    "for link in links:\n",
    "    print(link.name, link['href'], link.get_text())"
   ]
  },
  {
   "cell_type": "code",
   "execution_count": 8,
   "metadata": {
    "ExecuteTime": {
     "end_time": "2019-05-20T00:20:20.842154Z",
     "start_time": "2019-05-20T00:20:20.822810Z"
    }
   },
   "outputs": [
    {
     "name": "stdout",
     "output_type": "stream",
     "text": [
      "a http://example.com/lacie Lacie\n"
     ]
    }
   ],
   "source": [
    "# get link of lacie\n",
    "link_node = soup.find('a', href = \"http://example.com/lacie\")\n",
    "print(link_node.name, link_node['href'], link_node.get_text())"
   ]
  },
  {
   "cell_type": "code",
   "execution_count": 9,
   "metadata": {
    "ExecuteTime": {
     "end_time": "2019-05-20T00:22:59.747369Z",
     "start_time": "2019-05-20T00:22:59.737949Z"
    }
   },
   "outputs": [
    {
     "name": "stdout",
     "output_type": "stream",
     "text": [
      "a http://example.com/tillie Tillie\n"
     ]
    }
   ],
   "source": [
    "# get link of tillie using regular expression\n",
    "link_node = soup.find('a', href = re.compile(r\"ill\"))\n",
    "print(link_node.name, link_node['href'], link_node.get_text())"
   ]
  },
  {
   "cell_type": "code",
   "execution_count": 10,
   "metadata": {
    "ExecuteTime": {
     "end_time": "2019-05-20T00:25:23.253082Z",
     "start_time": "2019-05-20T00:25:23.245606Z"
    }
   },
   "outputs": [
    {
     "name": "stdout",
     "output_type": "stream",
     "text": [
      "p The Dormouse's story\n"
     ]
    }
   ],
   "source": [
    "# get p text\n",
    "p_node = soup.find('p', class_=\"title\")\n",
    "print(p_node.name, p_node.get_text())"
   ]
  },
  {
   "cell_type": "markdown",
   "metadata": {},
   "source": [
    "# 百度百科Python爬虫实例"
   ]
  },
  {
   "cell_type": "markdown",
   "metadata": {},
   "source": [
    "https://github.com/lovefengruoqing/baike_spider"
   ]
  },
  {
   "cell_type": "code",
   "execution_count": null,
   "metadata": {
    "collapsed": true
   },
   "outputs": [],
   "source": []
  }
 ],
 "metadata": {
  "kernelspec": {
   "display_name": "Python 3",
   "language": "python",
   "name": "python3"
  },
  "language_info": {
   "codemirror_mode": {
    "name": "ipython",
    "version": 3
   },
   "file_extension": ".py",
   "mimetype": "text/x-python",
   "name": "python",
   "nbconvert_exporter": "python",
   "pygments_lexer": "ipython3",
   "version": "3.6.3"
  },
  "varInspector": {
   "cols": {
    "lenName": 16,
    "lenType": 16,
    "lenVar": 40
   },
   "kernels_config": {
    "python": {
     "delete_cmd_postfix": "",
     "delete_cmd_prefix": "del ",
     "library": "var_list.py",
     "varRefreshCmd": "print(var_dic_list())"
    },
    "r": {
     "delete_cmd_postfix": ") ",
     "delete_cmd_prefix": "rm(",
     "library": "var_list.r",
     "varRefreshCmd": "cat(var_dic_list()) "
    }
   },
   "types_to_exclude": [
    "module",
    "function",
    "builtin_function_or_method",
    "instance",
    "_Feature"
   ],
   "window_display": false
  }
 },
 "nbformat": 4,
 "nbformat_minor": 2
}
